{
 "cells": [
  {
   "cell_type": "code",
   "execution_count": 1,
   "metadata": {},
   "outputs": [],
   "source": [
    "import pyprojroot"
   ]
  },
  {
   "cell_type": "code",
   "execution_count": 7,
   "metadata": {},
   "outputs": [
    {
     "name": "stdout",
     "output_type": "stream",
     "text": [
      "/home/santi/manejo-rutas/manejo_rutas\n"
     ]
    },
    {
     "data": {
      "text/plain": [
       "PosixPath('/home/santi/manejo-rutas/manejo_rutas/data/raw')"
      ]
     },
     "execution_count": 7,
     "metadata": {},
     "output_type": "execute_result"
    }
   ],
   "source": [
    "ROOT_PATH = pyprojroot.here() # Esto es un Posix Path (pathlib)\n",
    "print(ROOT_PATH)\n",
    "pyprojroot.here().joinpath(\"data\", \"raw\")\n",
    "\n",
    "\n",
    "# El path en pyprojroot se construye desde la raíz, no desde el path del archivo que lo ejecuta.\n",
    "# Puedes mover el archivo a cualquier parte de la carpeta del proyecto, pero los paths no se romperán."
   ]
  },
  {
   "cell_type": "code",
   "execution_count": 10,
   "metadata": {},
   "outputs": [
    {
     "data": {
      "text/plain": [
       "PosixPath('/home/santi/manejo-rutas/manejo_rutas/data/raw')"
      ]
     },
     "execution_count": 10,
     "metadata": {},
     "output_type": "execute_result"
    }
   ],
   "source": [
    "import pyhere\n",
    "\n",
    "pyhere.here()  # También regresa un Posix Path\n",
    "# El directorio que regresa es el directorio padre del directorio actual.\n",
    "\n",
    "pyhere.here().resolve().joinpath(\"data\", \"raw\")\n"
   ]
  },
  {
   "cell_type": "code",
   "execution_count": 11,
   "metadata": {},
   "outputs": [],
   "source": [
    "def make_dir_function(dir_name):\n",
    "    def dir_function(*args):\n",
    "        return pyprojroot.here().joinpath(dir_name, *args)\n",
    "    return dir_function\n",
    "\n",
    "\n"
   ]
  },
  {
   "cell_type": "code",
   "execution_count": 12,
   "metadata": {},
   "outputs": [
    {
     "data": {
      "text/plain": [
       "PosixPath('/home/santi/manejo-rutas/manejo_rutas/data/raw/pathlib')"
      ]
     },
     "execution_count": 12,
     "metadata": {},
     "output_type": "execute_result"
    }
   ],
   "source": [
    "data_dir = make_dir_function(\"data\")\n",
    "data_dir(\"raw\", \"pathlib\")  # Devuelve el path personalizado"
   ]
  }
 ],
 "metadata": {
  "kernelspec": {
   "display_name": "Python 3.7.13 ('manejo_rutas')",
   "language": "python",
   "name": "python3"
  },
  "language_info": {
   "codemirror_mode": {
    "name": "ipython",
    "version": 3
   },
   "file_extension": ".py",
   "mimetype": "text/x-python",
   "name": "python",
   "nbconvert_exporter": "python",
   "pygments_lexer": "ipython3",
   "version": "3.7.13"
  },
  "orig_nbformat": 4,
  "vscode": {
   "interpreter": {
    "hash": "422b0e0bf2f22ad303bd6b0572a89d7b25bd3fd8a73e2b2bda61afe184b2b729"
   }
  }
 },
 "nbformat": 4,
 "nbformat_minor": 2
}
